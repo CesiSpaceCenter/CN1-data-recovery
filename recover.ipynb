{
 "cells": [
  {
   "cell_type": "code",
   "execution_count": 1,
   "metadata": {
    "ExecuteTime": {
     "end_time": "2024-05-24T20:55:03Z",
     "start_time": "2024-05-24T20:55:03Z"
    }
   },
   "outputs": [],
   "source": [
    "import \"io/ioutil\"\n",
    "import \"regexp\"\n",
    "import \"strings\"\n",
    "import \"os\"\n",
    "import \"fmt\"\n",
    "import \"strconv\"\n",
    "import \"math\"\n",
    "import \"reflect\"\n",
    "\n",
    "func check(err error) {\n",
    "    if err != nil {\n",
    "        fmt.Println(\"Error\")\n",
    "        panic(err)\n",
    "    }\n",
    "}\n",
    "\n",
    "skipped := 0 // number of skipped packets"
   ]
  },
  {
   "cell_type": "markdown",
   "metadata": {},
   "source": [
    "###  Open the data dump (can be directly a unix device)"
   ]
  },
  {
   "cell_type": "code",
   "execution_count": 2,
   "metadata": {},
   "outputs": [],
   "source": [
    "data, err := ioutil.ReadFile(\"image.dd\")\n",
    "check(err)"
   ]
  },
  {
   "cell_type": "markdown",
   "metadata": {},
   "source": [
    "### Get data that correspond to the packet structure using regex"
   ]
  },
  {
   "cell_type": "markdown",
   "metadata": {},
   "source": [
    "*Please note that this regex is not optimized at all, it is very slow and not very readable and still gives false negatives/positives.*\n",
    "\n",
    "Floats look like this: `-?\\d*\\.?\\d*e?-?\\d*` (quantifiers changes depending on the context of the group)\n",
    "- `-?` Minus sign or not\n",
    "- `\\d*` Integer digit(s)\n",
    "- `.?` Decimal marker\n",
    "- `\\d*` Decimal digit(s)\n",
    "- `e?` Power of ten (Python uses scientific number notation)\n",
    "- `-?` Power of ten sign\n",
    "- `\\d*` Power of ten digit(s)\n",
    "\n",
    "Match any first incomplete line:\n",
    "- `(?:(?:-?\\d*\\.?\\d*e?-?\\d*,)*`: Multiple floats, ending with a comma. Almost everything is with `*` or `?` (0 or more & 0 or 1) because the line might be incomplete, and a float can only contain a single digit for example\n",
    "- `(?:-?\\d*\\.?\\d*e?-?\\d*\\n?))?`: End of the first (possibly incomplete line)\n",
    "\n",
    "Match full lines, containing 9 items separated by comma, and an extra one ending with a newline:\n",
    "`(?:(?:-?\\d+\\.\\d+e?-?\\d*,){9}-*\\d+\\.\\d+e?-?\\d*\\n)+`\n",
    "\n",
    "Match any line with incomplete end: `(?:(?:-?\\d*\\.?\\d+e?-?\\d*,?)*)`\n",
    "\n",
    "At the end we concat every match together, most of the time the incomplete last lines of a match give us a complete line when stitched together with the following incomplete first line.\\\n",
    "Example:\n",
    "- Incomplete last line of a match: `49.665,0.117979,0.317355,0.723516,0.00864801,-0.00477252,0`\n",
    "- Incomplete first line of the following match: `.0164411,1017.45,-0.190244,24.8807`\n",
    "- Together: `49.665,0.117979,0.317355,0.723516,0.00864801,-0.00477252,0.0164411,1017.45,-0.190244,24.8807` => Complete packet!\n"
   ]
  },
  {
   "cell_type": "code",
   "execution_count": 3,
   "metadata": {},
   "outputs": [],
   "source": [
    "re := regexp.MustCompile(`(?m)(?:(?:-?\\d*\\.?\\d+(e-?\\d+)?,)*(?:-?\\d*\\.\\d+(e-?\\d+)?\\n))?(?:(?:-?\\d+\\.\\d+(e-?\\d+)?,){9}-*\\d+\\.\\d+(e-?\\d+)?\\n)+(?:(?:-?\\d+\\.\\d+(e-?\\d+)?,?)*)`)\n",
    "matches := \"\"\n",
    "\n",
    "for _, match := range re.FindAllString(string(data), -1) {\n",
    "    matches += match\n",
    "    check(err)\n",
    "}"
   ]
  },
  {
   "cell_type": "markdown",
   "metadata": {},
   "source": [
    "### Parse every line into a struct, and filter"
   ]
  },
  {
   "cell_type": "markdown",
   "metadata": {},
   "source": [
    "Remove packets where the number of items is incorrect, or where a value is too high (arbitrarily 6000)"
   ]
  },
  {
   "cell_type": "code",
   "execution_count": 4,
   "metadata": {},
   "outputs": [],
   "source": [
    "type Packet struct {\n",
    "\ttime float64\n",
    "\taccX float64\n",
    "\taccY float64\n",
    "\taccZ float64\n",
    "\tgyrX float64\n",
    "\tgyrY float64\n",
    "\tgyrZ float64\n",
    "\tpres float64\n",
    "\talt  float64\n",
    "\ttemp float64\n",
    "}\n",
    "\n",
    "var packets []Packet\n",
    "\n",
    "packet_loop:\n",
    "for _, line_str := range strings.Split(matches, \"\\n\") {\n",
    "\tline := strings.Split(line_str, ',')\n",
    "\tp := Packet{}\n",
    "\n",
    "\tif len(line) != 10 {\n",
    "\t\tskipped++\n",
    "\t\tcontinue\n",
    "\t}\n",
    "\n",
    "\tfor _, val := range line {\n",
    "\t\tval, err := strconv.ParseFloat(val, 32)\n",
    "\t\tcheck(err)\n",
    "\t\tif math.Abs(val) > 6000 {\n",
    "\t\t\tskipped++\n",
    "\t\t\tcontinue packet_loop\n",
    "\t\t}\n",
    "\t}\n",
    "\n",
    "\tp.time, _ = strconv.ParseFloat(line[0], 32)\n",
    "\tp.accX, err = strconv.ParseFloat(line[1], 32)\n",
    "\tcheck(err)\n",
    "\tp.accY, err = strconv.ParseFloat(line[2], 32)\n",
    "\tcheck(err)\n",
    "\tp.accZ, err = strconv.ParseFloat(line[3], 32)\n",
    "\tcheck(err)\n",
    "\tp.gyrX, err = strconv.ParseFloat(line[4], 32)\n",
    "\tcheck(err)\n",
    "\tp.gyrY, err = strconv.ParseFloat(line[5], 32)\n",
    "\tcheck(err)\n",
    "\tp.gyrZ, err = strconv.ParseFloat(line[6], 32)\n",
    "\tcheck(err)\n",
    "\tp.pres, err = strconv.ParseFloat(line[7], 32)\n",
    "\tcheck(err)\n",
    "\tp.alt, err =  strconv.ParseFloat(line[8], 32)\n",
    "\tcheck(err)\n",
    "\tp.temp, err = strconv.ParseFloat(line[9], 32)\n",
    "\tcheck(err)\n",
    "\t\n",
    "\tpackets = append(packets, p)\n",
    "}"
   ]
  },
  {
   "cell_type": "markdown",
   "metadata": {},
   "source": [
    "### Group packets"
   ]
  },
  {
   "cell_type": "markdown",
   "metadata": {},
   "source": [
    "We group packets depending on the timestamp. Packets are put in the same group until the time delta between the last packet *(i-1)* and the current one *(i)* is too long (arbitrarily 1.5s), or if the current packet's *(i)* time is behind last packet's *(i-1)* time.\n",
    "\n",
    "We also check for false postitives: we do the same checks but between the last packet *(i-1)* and the next one *(i+1)*, because sometimes a line is malformed, and so the time is detected as a new group. Example: \n",
    "```44.211,0.0478039,0.0302162,0.515105,-0.0313193,0.0166487,0.0193122,1017.46,-0.422764,24.8781\n",
    "44.513,0.0460923,0.0320013,0.522003,-0.0313287,0.0169571,0.0194658,1017.45,-0.0845528,24.8807\n",
    "4.821,0.0443463,0.0352771,0.529401,-0.0310598,0.0170395,0.0199473,1017.45,-0.147967,24.8756 <--- Incorrect, skipped\n",
    "45.123,0.0458433,0.0367056,0.532733,-0.0308872,0.0173024,0.0199188,1017.44,-0.190244,24.8703\n",
    "```"
   ]
  },
  {
   "cell_type": "code",
   "execution_count": 5,
   "metadata": {},
   "outputs": [
    {
     "data": {
      "text/plain": [
       "25 groups"
      ]
     },
     "execution_count": 5,
     "metadata": {},
     "output_type": "execute_result"
    }
   ],
   "source": [
    "i := 1\n",
    "var packet_groups [][]Packet\n",
    "var packet_group []Packet\n",
    "for i < len(packets) {\n",
    "\t// time between this packet and the previous one is bigger than 1.5 secs, put it into a new group\n",
    "\tif packets[i].time - packets[i-1].time > 1.5 || packets[i].time <= packets[i-1].time {\n",
    "        // BUT if the next packet is close to the previous packet, consider the actual packet to be corrupted, skip\n",
    "        if packets[i+1].time - packets[i-1].time < 1.5 && packets[i+1].time > packets[i-1].time {\n",
    "            i++\n",
    "\t\t\tskipped++\n",
    "            continue\n",
    "        }\n",
    "\t\tpacket_groups = append(packet_groups, packet_group)\n",
    "\t\tpacket_group = nil\n",
    "\t}\n",
    "\n",
    "\tpacket_group = append(packet_group, packets[i])\n",
    "\ti++\n",
    "}\n",
    "\n",
    "fmt.Sprintf(\"%d groups\", len(packet_groups))"
   ]
  },
  {
   "cell_type": "markdown",
   "metadata": {},
   "source": [
    "###  Remove duplicates"
   ]
  },
  {
   "cell_type": "markdown",
   "metadata": {},
   "source": [
    "Somehow almost every group is duplicated in the data dump, so we remove them here"
   ]
  },
  {
   "cell_type": "code",
   "execution_count": 6,
   "metadata": {},
   "outputs": [],
   "source": [
    "packet_groups_filtered := [][]Packet{}\n",
    "\n",
    "packet_filter_loop:\n",
    "for _, packet_group_a := range(packet_groups) {\n",
    "\tfor _, packet_group_b := range(packet_groups_filtered) {\n",
    "\t\tif reflect.DeepEqual(packet_group_a, packet_group_b) {\n",
    "\t\t\tcontinue packet_filter_loop\n",
    "\t\t}\n",
    "\t}\n",
    "\tpacket_groups_filtered = append(packet_groups_filtered, packet_group_a)\n",
    "}"
   ]
  },
  {
   "cell_type": "markdown",
   "metadata": {},
   "source": [
    "###  Write every group to CSV"
   ]
  },
  {
   "cell_type": "code",
   "execution_count": 7,
   "metadata": {},
   "outputs": [],
   "source": [
    "for i, group := range packet_groups_filtered {\n",
    "    content := \"time,accX,accY,accZ,gyrX,gyrY,gyrZ,pres,alt,temp\\n\"\n",
    "    for _, packet := range group {\n",
    "        content += fmt.Sprintf(\"%.3f,\", packet.time)\n",
    "        content += fmt.Sprintf(\"%.3f,\", packet.accX)\n",
    "        content += fmt.Sprintf(\"%.3f,\", packet.accY)\n",
    "        content += fmt.Sprintf(\"%.3f,\", packet.accZ)\n",
    "        content += fmt.Sprintf(\"%.3f,\", packet.gyrX)\n",
    "        content += fmt.Sprintf(\"%.3f,\", packet.gyrY)\n",
    "        content += fmt.Sprintf(\"%.3f,\", packet.gyrZ)\n",
    "        content += fmt.Sprintf(\"%.3f,\", packet.pres)\n",
    "        content += fmt.Sprintf(\"%.3f,\", packet.alt)\n",
    "        content += fmt.Sprintf(\"%.3f\\n\", packet.temp)\n",
    "    }\n",
    "    err := ioutil.WriteFile(fmt.Sprintf(\"recover/%d.csv\", i), []byte(content), 0644)\n",
    "    check(err)\n",
    "}"
   ]
  },
  {
   "cell_type": "code",
   "execution_count": 8,
   "metadata": {},
   "outputs": [
    {
     "data": {
      "text/plain": [
       "Skipped 32 packets"
      ]
     },
     "execution_count": 8,
     "metadata": {},
     "output_type": "execute_result"
    }
   ],
   "source": [
    "fmt.Sprintf(\"Skipped %d packets\", skipped)"
   ]
  }
 ],
 "metadata": {
  "kernelspec": {
   "display_name": "Go",
   "language": "go",
   "name": "gophernotes"
  },
  "language_info": {
   "codemirror_mode": "",
   "file_extension": ".go",
   "mimetype": "",
   "name": "go",
   "nbconvert_exporter": "",
   "pygments_lexer": "",
   "version": "go1.22.3"
  }
 },
 "nbformat": 4,
 "nbformat_minor": 4
}
